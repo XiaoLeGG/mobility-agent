{
 "cells": [
  {
   "cell_type": "markdown",
   "source": [
    "# StopDetection Test with Multi-Input Tools"
   ],
   "metadata": {
    "collapsed": false
   },
   "id": "a36a6a1659fc4382"
  },
  {
   "cell_type": "markdown",
   "source": [
    "# V1"
   ],
   "metadata": {
    "collapsed": false
   },
   "id": "ff604152e6a76ceb"
  },
  {
   "cell_type": "markdown",
   "source": [
    "把一整个任务都包好了，只是让GPT调了跑\n",
    "好像没问题"
   ],
   "metadata": {
    "collapsed": false
   },
   "id": "ad6fb21742a0a87"
  },
  {
   "cell_type": "code",
   "execution_count": 7,
   "id": "initial_id",
   "metadata": {
    "collapsed": true,
    "ExecuteTime": {
     "end_time": "2023-10-11T14:17:16.666581Z",
     "start_time": "2023-10-11T14:17:09.835945Z"
    }
   },
   "outputs": [
    {
     "name": "stderr",
     "output_type": "stream",
     "text": [
      "Failed to load default session, using empty session: HTTPConnectionPool(host='localhost', port=8000): Max retries exceeded with url: /sessions?name=default (Caused by NewConnectionError('<urllib3.connection.HTTPConnection object at 0x1514cb7c0>: Failed to establish a new connection: [Errno 61] Connection refused'))\n"
     ]
    },
    {
     "name": "stdout",
     "output_type": "stream",
     "text": [
      "\n",
      "\n",
      "\u001B[1m> Entering new AgentExecutor chain...\u001B[0m\n",
      "\u001B[32;1m\u001B[1;3m\n",
      "Action:\n",
      "```\n",
      "{\n",
      "  \"action\": \"stop_detection\",\n",
      "  \"action_input\": {\n",
      "    \"file_path\": \"/Users/user/Downloads/scikitmob/20081023025304.plt\"\n",
      "  }\n",
      "}\n",
      "```\n",
      "\n",
      "\u001B[0m\n",
      "Observation: \u001B[36;1m\u001B[1;3m         lat         lng            datetime    leaving_datetime\n",
      "0  39.983685  116.299314 2023-10-11 03:01:50 2023-10-11 04:08:07\n",
      "1  39.999666  116.324510 2023-10-11 04:32:52 2023-10-11 09:42:25\n",
      "2  40.008994  116.321445 2023-10-11 09:44:50 2023-10-11 10:09:16\n",
      "3  40.007759  116.319107 2023-10-11 10:09:16 2023-10-11 10:31:25\n",
      "4  40.008899  116.321856 2023-10-11 10:44:31 2023-10-11 11:10:42\u001B[0m\n",
      "Thought:"
     ]
    },
    {
     "name": "stderr",
     "output_type": "stream",
     "text": [
      "Failed to persist run: HTTPConnectionPool(host='localhost', port=8000): Max retries exceeded with url: /chain-runs (Caused by NewConnectionError('<urllib3.connection.HTTPConnection object at 0x1514a5070>: Failed to establish a new connection: [Errno 61] Connection refused'))\n"
     ]
    },
    {
     "name": "stdout",
     "output_type": "stream",
     "text": [
      "\u001B[32;1m\u001B[1;3m I have the output of the stop detection task\n",
      "Action:\n",
      "```\n",
      "{\n",
      "  \"action\": \"Final Answer\",\n",
      "  \"action_input\": \"The output of the stop detection task is a TrajDataFrame with 5 rows.\"\n",
      "}\n",
      "```\n",
      "\n",
      "\u001B[0m\n",
      "\n",
      "\u001B[1m> Finished chain.\u001B[0m\n"
     ]
    },
    {
     "data": {
      "text/plain": "'The output of the stop detection task is a TrajDataFrame with 5 rows.'"
     },
     "execution_count": 7,
     "metadata": {},
     "output_type": "execute_result"
    }
   ],
   "source": [
    "import os\n",
    "import pandas as pd\n",
    "import skmob\n",
    "from skmob import TrajDataFrame\n",
    "from skmob.preprocessing import filtering\n",
    "from skmob.preprocessing import detection\n",
    "\n",
    "os.environ[\"LANGCHAIN_TRACING\"] = \"true\"\n",
    "\n",
    "from langchain.llms import OpenAI\n",
    "from langchain.agents import initialize_agent, AgentType\n",
    "\n",
    "llm = OpenAI(temperature=0)\n",
    "from langchain.tools import StructuredTool\n",
    "\n",
    "\n",
    "def stop_detection(file_path:str) -> skmob.TrajDataFrame:\n",
    "    \"\"\"use the input file to do the stop detection task\"\"\"\n",
    "    # Read the PLT file into a pandas DataFrame\n",
    "    df = pd.read_csv(file_path, skiprows=6, header=None,\n",
    "                     names=['lat', 'lon', 'zero', 'alt', 'date', 'date_str', 'time_str'])\n",
    "    # Drop useless columns\n",
    "    df = df.drop(columns=['zero', 'alt', 'date', 'date_str'])\n",
    "    # Create a TrajectoryDataFrame from the DataFrame\n",
    "    tdf = TrajDataFrame(df, latitude='lat', longitude='lon', datetime='time_str')\n",
    "    # Preprocess the trajectory data by filtering out noise\n",
    "    tdf = filtering.filter(tdf, max_speed_kmh=100)\n",
    "    # Detect stops in the trajectory data\n",
    "    stdf = detection.stay_locations(tdf, stop_radius_factor=0.5, minutes_for_a_stop=20.0, spatial_radius_km=0.2,\n",
    "                                    leaving_time=True)\n",
    "    # Return the stops as a pandas DataFrame\n",
    "    return stdf\n",
    "\n",
    "\n",
    "tool = StructuredTool.from_function(stop_detection)\n",
    "# Structured tools are compatible with the STRUCTURED_CHAT_ZERO_SHOT_REACT_DESCRIPTION agent type.\n",
    "agent_executor = initialize_agent(\n",
    "    [tool],\n",
    "    llm,\n",
    "    agent=AgentType.STRUCTURED_CHAT_ZERO_SHOT_REACT_DESCRIPTION,\n",
    "    verbose=True,\n",
    ")\n",
    "\n",
    "task = \"a stop detection task on data Geolife Trajectories 1.3. Find some information from the output, like how many rows are in the result, etc. File_path = '/Users/user/Downloads/scikitmob/20081023025304.plt'\"\n",
    "prompt = f\"\"\"\n",
    "You are an AI spatial-temporal data assistant and want to make use of a python library called Scikit-mobility.\n",
    "You need to write some python code to do a task.\n",
    "The task is {task}.\"\"\"\n",
    "\n",
    "\n",
    "agent_executor.run(prompt)"
   ]
  },
  {
   "cell_type": "markdown",
   "source": [
    "# V2"
   ],
   "metadata": {
    "collapsed": false
   },
   "id": "c99fb5d50689c3da"
  },
  {
   "cell_type": "markdown",
   "source": [
    "把任务拆小一点，涉及pandas df传参\n",
    "有点寄"
   ],
   "metadata": {
    "collapsed": false
   },
   "id": "6561463f876eb91b"
  },
  {
   "cell_type": "code",
   "execution_count": 10,
   "outputs": [
    {
     "ename": "ValueError",
     "evalue": "Value not declarable with JSON Schema, field: name='tdf' type=TrajDataFrame required=True",
     "output_type": "error",
     "traceback": [
      "\u001B[0;31m---------------------------------------------------------------------------\u001B[0m",
      "\u001B[0;31mValueError\u001B[0m                                Traceback (most recent call last)",
      "Cell \u001B[0;32mIn[10], line 40\u001B[0m\n\u001B[1;32m     36\u001B[0m     \u001B[38;5;66;03m# Return the stops as a pandas DataFrame\u001B[39;00m\n\u001B[1;32m     37\u001B[0m     \u001B[38;5;28;01mreturn\u001B[39;00m stdf\n\u001B[0;32m---> 40\u001B[0m tool \u001B[38;5;241m=\u001B[39m [\u001B[43mStructuredTool\u001B[49m\u001B[38;5;241;43m.\u001B[39;49m\u001B[43mfrom_function\u001B[49m\u001B[43m(\u001B[49m\u001B[43mstop_detection\u001B[49m\u001B[43m)\u001B[49m]\n\u001B[1;32m     42\u001B[0m \u001B[38;5;66;03m# Structured tools are compatible with the STRUCTURED_CHAT_ZERO_SHOT_REACT_DESCRIPTION agent type.\u001B[39;00m\n\u001B[1;32m     43\u001B[0m agent_executor \u001B[38;5;241m=\u001B[39m initialize_agent(\n\u001B[1;32m     44\u001B[0m     tool,\n\u001B[1;32m     45\u001B[0m     llm,\n\u001B[1;32m     46\u001B[0m     agent\u001B[38;5;241m=\u001B[39mAgentType\u001B[38;5;241m.\u001B[39mSTRUCTURED_CHAT_ZERO_SHOT_REACT_DESCRIPTION,\n\u001B[1;32m     47\u001B[0m     verbose\u001B[38;5;241m=\u001B[39m\u001B[38;5;28;01mTrue\u001B[39;00m,\n\u001B[1;32m     48\u001B[0m )\n",
      "File \u001B[0;32m~/anaconda3/envs/mobai/lib/python3.8/site-packages/langchain/tools/base.py:720\u001B[0m, in \u001B[0;36mStructuredTool.from_function\u001B[0;34m(cls, func, coroutine, name, description, return_direct, args_schema, infer_schema, **kwargs)\u001B[0m\n\u001B[1;32m    718\u001B[0m _args_schema \u001B[38;5;241m=\u001B[39m args_schema\n\u001B[1;32m    719\u001B[0m \u001B[38;5;28;01mif\u001B[39;00m _args_schema \u001B[38;5;129;01mis\u001B[39;00m \u001B[38;5;28;01mNone\u001B[39;00m \u001B[38;5;129;01mand\u001B[39;00m infer_schema:\n\u001B[0;32m--> 720\u001B[0m     _args_schema \u001B[38;5;241m=\u001B[39m \u001B[43mcreate_schema_from_function\u001B[49m\u001B[43m(\u001B[49m\u001B[38;5;124;43mf\u001B[39;49m\u001B[38;5;124;43m\"\u001B[39;49m\u001B[38;5;132;43;01m{\u001B[39;49;00m\u001B[43mname\u001B[49m\u001B[38;5;132;43;01m}\u001B[39;49;00m\u001B[38;5;124;43mSchema\u001B[39;49m\u001B[38;5;124;43m\"\u001B[39;49m\u001B[43m,\u001B[49m\u001B[43m \u001B[49m\u001B[43msource_function\u001B[49m\u001B[43m)\u001B[49m\n\u001B[1;32m    721\u001B[0m \u001B[38;5;28;01mreturn\u001B[39;00m \u001B[38;5;28mcls\u001B[39m(\n\u001B[1;32m    722\u001B[0m     name\u001B[38;5;241m=\u001B[39mname,\n\u001B[1;32m    723\u001B[0m     func\u001B[38;5;241m=\u001B[39mfunc,\n\u001B[0;32m   (...)\u001B[0m\n\u001B[1;32m    728\u001B[0m     \u001B[38;5;241m*\u001B[39m\u001B[38;5;241m*\u001B[39mkwargs,\n\u001B[1;32m    729\u001B[0m )\n",
      "File \u001B[0;32m~/anaconda3/envs/mobai/lib/python3.8/site-packages/langchain/tools/base.py:83\u001B[0m, in \u001B[0;36mcreate_schema_from_function\u001B[0;34m(model_name, func)\u001B[0m\n\u001B[1;32m     81\u001B[0m     \u001B[38;5;28;01mdel\u001B[39;00m inferred_model\u001B[38;5;241m.\u001B[39m__fields__[\u001B[38;5;124m\"\u001B[39m\u001B[38;5;124mcallbacks\u001B[39m\u001B[38;5;124m\"\u001B[39m]\n\u001B[1;32m     82\u001B[0m \u001B[38;5;66;03m# Pydantic adds placeholder virtual fields we need to strip\u001B[39;00m\n\u001B[0;32m---> 83\u001B[0m valid_properties \u001B[38;5;241m=\u001B[39m \u001B[43m_get_filtered_args\u001B[49m\u001B[43m(\u001B[49m\u001B[43minferred_model\u001B[49m\u001B[43m,\u001B[49m\u001B[43m \u001B[49m\u001B[43mfunc\u001B[49m\u001B[43m)\u001B[49m\n\u001B[1;32m     84\u001B[0m \u001B[38;5;28;01mreturn\u001B[39;00m _create_subset_model(\n\u001B[1;32m     85\u001B[0m     \u001B[38;5;124mf\u001B[39m\u001B[38;5;124m\"\u001B[39m\u001B[38;5;132;01m{\u001B[39;00mmodel_name\u001B[38;5;132;01m}\u001B[39;00m\u001B[38;5;124mSchema\u001B[39m\u001B[38;5;124m\"\u001B[39m, inferred_model, \u001B[38;5;28mlist\u001B[39m(valid_properties)\n\u001B[1;32m     86\u001B[0m )\n",
      "File \u001B[0;32m~/anaconda3/envs/mobai/lib/python3.8/site-packages/langchain/tools/base.py:52\u001B[0m, in \u001B[0;36m_get_filtered_args\u001B[0;34m(inferred_model, func)\u001B[0m\n\u001B[1;32m     47\u001B[0m \u001B[38;5;28;01mdef\u001B[39;00m \u001B[38;5;21m_get_filtered_args\u001B[39m(\n\u001B[1;32m     48\u001B[0m     inferred_model: Type[BaseModel],\n\u001B[1;32m     49\u001B[0m     func: Callable,\n\u001B[1;32m     50\u001B[0m ) \u001B[38;5;241m-\u001B[39m\u001B[38;5;241m>\u001B[39m \u001B[38;5;28mdict\u001B[39m:\n\u001B[1;32m     51\u001B[0m \u001B[38;5;250m    \u001B[39m\u001B[38;5;124;03m\"\"\"Get the arguments from a function's signature.\"\"\"\u001B[39;00m\n\u001B[0;32m---> 52\u001B[0m     schema \u001B[38;5;241m=\u001B[39m \u001B[43minferred_model\u001B[49m\u001B[38;5;241;43m.\u001B[39;49m\u001B[43mschema\u001B[49m\u001B[43m(\u001B[49m\u001B[43m)\u001B[49m[\u001B[38;5;124m\"\u001B[39m\u001B[38;5;124mproperties\u001B[39m\u001B[38;5;124m\"\u001B[39m]\n\u001B[1;32m     53\u001B[0m     valid_keys \u001B[38;5;241m=\u001B[39m signature(func)\u001B[38;5;241m.\u001B[39mparameters\n\u001B[1;32m     54\u001B[0m     \u001B[38;5;28;01mreturn\u001B[39;00m {k: schema[k] \u001B[38;5;28;01mfor\u001B[39;00m k \u001B[38;5;129;01min\u001B[39;00m valid_keys \u001B[38;5;28;01mif\u001B[39;00m k \u001B[38;5;129;01mnot\u001B[39;00m \u001B[38;5;129;01min\u001B[39;00m (\u001B[38;5;124m\"\u001B[39m\u001B[38;5;124mrun_manager\u001B[39m\u001B[38;5;124m\"\u001B[39m, \u001B[38;5;124m\"\u001B[39m\u001B[38;5;124mcallbacks\u001B[39m\u001B[38;5;124m\"\u001B[39m)}\n",
      "File \u001B[0;32m~/anaconda3/envs/mobai/lib/python3.8/site-packages/pydantic/v1/main.py:664\u001B[0m, in \u001B[0;36mBaseModel.schema\u001B[0;34m(cls, by_alias, ref_template)\u001B[0m\n\u001B[1;32m    662\u001B[0m \u001B[38;5;28;01mif\u001B[39;00m cached \u001B[38;5;129;01mis\u001B[39;00m \u001B[38;5;129;01mnot\u001B[39;00m \u001B[38;5;28;01mNone\u001B[39;00m:\n\u001B[1;32m    663\u001B[0m     \u001B[38;5;28;01mreturn\u001B[39;00m cached\n\u001B[0;32m--> 664\u001B[0m s \u001B[38;5;241m=\u001B[39m \u001B[43mmodel_schema\u001B[49m\u001B[43m(\u001B[49m\u001B[38;5;28;43mcls\u001B[39;49m\u001B[43m,\u001B[49m\u001B[43m \u001B[49m\u001B[43mby_alias\u001B[49m\u001B[38;5;241;43m=\u001B[39;49m\u001B[43mby_alias\u001B[49m\u001B[43m,\u001B[49m\u001B[43m \u001B[49m\u001B[43mref_template\u001B[49m\u001B[38;5;241;43m=\u001B[39;49m\u001B[43mref_template\u001B[49m\u001B[43m)\u001B[49m\n\u001B[1;32m    665\u001B[0m \u001B[38;5;28mcls\u001B[39m\u001B[38;5;241m.\u001B[39m__schema_cache__[(by_alias, ref_template)] \u001B[38;5;241m=\u001B[39m s\n\u001B[1;32m    666\u001B[0m \u001B[38;5;28;01mreturn\u001B[39;00m s\n",
      "File \u001B[0;32m~/anaconda3/envs/mobai/lib/python3.8/site-packages/pydantic/v1/schema.py:188\u001B[0m, in \u001B[0;36mmodel_schema\u001B[0;34m(model, by_alias, ref_prefix, ref_template)\u001B[0m\n\u001B[1;32m    186\u001B[0m model_name_map \u001B[38;5;241m=\u001B[39m get_model_name_map(flat_models)\n\u001B[1;32m    187\u001B[0m model_name \u001B[38;5;241m=\u001B[39m model_name_map[model]\n\u001B[0;32m--> 188\u001B[0m m_schema, m_definitions, nested_models \u001B[38;5;241m=\u001B[39m \u001B[43mmodel_process_schema\u001B[49m\u001B[43m(\u001B[49m\n\u001B[1;32m    189\u001B[0m \u001B[43m    \u001B[49m\u001B[43mmodel\u001B[49m\u001B[43m,\u001B[49m\u001B[43m \u001B[49m\u001B[43mby_alias\u001B[49m\u001B[38;5;241;43m=\u001B[39;49m\u001B[43mby_alias\u001B[49m\u001B[43m,\u001B[49m\u001B[43m \u001B[49m\u001B[43mmodel_name_map\u001B[49m\u001B[38;5;241;43m=\u001B[39;49m\u001B[43mmodel_name_map\u001B[49m\u001B[43m,\u001B[49m\u001B[43m \u001B[49m\u001B[43mref_prefix\u001B[49m\u001B[38;5;241;43m=\u001B[39;49m\u001B[43mref_prefix\u001B[49m\u001B[43m,\u001B[49m\u001B[43m \u001B[49m\u001B[43mref_template\u001B[49m\u001B[38;5;241;43m=\u001B[39;49m\u001B[43mref_template\u001B[49m\n\u001B[1;32m    190\u001B[0m \u001B[43m\u001B[49m\u001B[43m)\u001B[49m\n\u001B[1;32m    191\u001B[0m \u001B[38;5;28;01mif\u001B[39;00m model_name \u001B[38;5;129;01min\u001B[39;00m nested_models:\n\u001B[1;32m    192\u001B[0m     \u001B[38;5;66;03m# model_name is in Nested models, it has circular references\u001B[39;00m\n\u001B[1;32m    193\u001B[0m     m_definitions[model_name] \u001B[38;5;241m=\u001B[39m m_schema\n",
      "File \u001B[0;32m~/anaconda3/envs/mobai/lib/python3.8/site-packages/pydantic/v1/schema.py:582\u001B[0m, in \u001B[0;36mmodel_process_schema\u001B[0;34m(model, by_alias, model_name_map, ref_prefix, ref_template, known_models, field)\u001B[0m\n\u001B[1;32m    580\u001B[0m     s[\u001B[38;5;124m'\u001B[39m\u001B[38;5;124mdescription\u001B[39m\u001B[38;5;124m'\u001B[39m] \u001B[38;5;241m=\u001B[39m doc\n\u001B[1;32m    581\u001B[0m known_models\u001B[38;5;241m.\u001B[39madd(model)\n\u001B[0;32m--> 582\u001B[0m m_schema, m_definitions, nested_models \u001B[38;5;241m=\u001B[39m \u001B[43mmodel_type_schema\u001B[49m\u001B[43m(\u001B[49m\n\u001B[1;32m    583\u001B[0m \u001B[43m    \u001B[49m\u001B[43mmodel\u001B[49m\u001B[43m,\u001B[49m\n\u001B[1;32m    584\u001B[0m \u001B[43m    \u001B[49m\u001B[43mby_alias\u001B[49m\u001B[38;5;241;43m=\u001B[39;49m\u001B[43mby_alias\u001B[49m\u001B[43m,\u001B[49m\n\u001B[1;32m    585\u001B[0m \u001B[43m    \u001B[49m\u001B[43mmodel_name_map\u001B[49m\u001B[38;5;241;43m=\u001B[39;49m\u001B[43mmodel_name_map\u001B[49m\u001B[43m,\u001B[49m\n\u001B[1;32m    586\u001B[0m \u001B[43m    \u001B[49m\u001B[43mref_prefix\u001B[49m\u001B[38;5;241;43m=\u001B[39;49m\u001B[43mref_prefix\u001B[49m\u001B[43m,\u001B[49m\n\u001B[1;32m    587\u001B[0m \u001B[43m    \u001B[49m\u001B[43mref_template\u001B[49m\u001B[38;5;241;43m=\u001B[39;49m\u001B[43mref_template\u001B[49m\u001B[43m,\u001B[49m\n\u001B[1;32m    588\u001B[0m \u001B[43m    \u001B[49m\u001B[43mknown_models\u001B[49m\u001B[38;5;241;43m=\u001B[39;49m\u001B[43mknown_models\u001B[49m\u001B[43m,\u001B[49m\n\u001B[1;32m    589\u001B[0m \u001B[43m\u001B[49m\u001B[43m)\u001B[49m\n\u001B[1;32m    590\u001B[0m s\u001B[38;5;241m.\u001B[39mupdate(m_schema)\n\u001B[1;32m    591\u001B[0m schema_extra \u001B[38;5;241m=\u001B[39m model\u001B[38;5;241m.\u001B[39m__config__\u001B[38;5;241m.\u001B[39mschema_extra\n",
      "File \u001B[0;32m~/anaconda3/envs/mobai/lib/python3.8/site-packages/pydantic/v1/schema.py:623\u001B[0m, in \u001B[0;36mmodel_type_schema\u001B[0;34m(model, by_alias, model_name_map, ref_template, ref_prefix, known_models)\u001B[0m\n\u001B[1;32m    621\u001B[0m \u001B[38;5;28;01mfor\u001B[39;00m k, f \u001B[38;5;129;01min\u001B[39;00m model\u001B[38;5;241m.\u001B[39m__fields__\u001B[38;5;241m.\u001B[39mitems():\n\u001B[1;32m    622\u001B[0m     \u001B[38;5;28;01mtry\u001B[39;00m:\n\u001B[0;32m--> 623\u001B[0m         f_schema, f_definitions, f_nested_models \u001B[38;5;241m=\u001B[39m \u001B[43mfield_schema\u001B[49m\u001B[43m(\u001B[49m\n\u001B[1;32m    624\u001B[0m \u001B[43m            \u001B[49m\u001B[43mf\u001B[49m\u001B[43m,\u001B[49m\n\u001B[1;32m    625\u001B[0m \u001B[43m            \u001B[49m\u001B[43mby_alias\u001B[49m\u001B[38;5;241;43m=\u001B[39;49m\u001B[43mby_alias\u001B[49m\u001B[43m,\u001B[49m\n\u001B[1;32m    626\u001B[0m \u001B[43m            \u001B[49m\u001B[43mmodel_name_map\u001B[49m\u001B[38;5;241;43m=\u001B[39;49m\u001B[43mmodel_name_map\u001B[49m\u001B[43m,\u001B[49m\n\u001B[1;32m    627\u001B[0m \u001B[43m            \u001B[49m\u001B[43mref_prefix\u001B[49m\u001B[38;5;241;43m=\u001B[39;49m\u001B[43mref_prefix\u001B[49m\u001B[43m,\u001B[49m\n\u001B[1;32m    628\u001B[0m \u001B[43m            \u001B[49m\u001B[43mref_template\u001B[49m\u001B[38;5;241;43m=\u001B[39;49m\u001B[43mref_template\u001B[49m\u001B[43m,\u001B[49m\n\u001B[1;32m    629\u001B[0m \u001B[43m            \u001B[49m\u001B[43mknown_models\u001B[49m\u001B[38;5;241;43m=\u001B[39;49m\u001B[43mknown_models\u001B[49m\u001B[43m,\u001B[49m\n\u001B[1;32m    630\u001B[0m \u001B[43m        \u001B[49m\u001B[43m)\u001B[49m\n\u001B[1;32m    631\u001B[0m     \u001B[38;5;28;01mexcept\u001B[39;00m SkipField \u001B[38;5;28;01mas\u001B[39;00m skip:\n\u001B[1;32m    632\u001B[0m         warnings\u001B[38;5;241m.\u001B[39mwarn(skip\u001B[38;5;241m.\u001B[39mmessage, \u001B[38;5;167;01mUserWarning\u001B[39;00m)\n",
      "File \u001B[0;32m~/anaconda3/envs/mobai/lib/python3.8/site-packages/pydantic/v1/schema.py:256\u001B[0m, in \u001B[0;36mfield_schema\u001B[0;34m(field, by_alias, model_name_map, ref_prefix, ref_template, known_models)\u001B[0m\n\u001B[1;32m    253\u001B[0m     s\u001B[38;5;241m.\u001B[39mupdate(validation_schema)\n\u001B[1;32m    254\u001B[0m     schema_overrides \u001B[38;5;241m=\u001B[39m \u001B[38;5;28;01mTrue\u001B[39;00m\n\u001B[0;32m--> 256\u001B[0m f_schema, f_definitions, f_nested_models \u001B[38;5;241m=\u001B[39m \u001B[43mfield_type_schema\u001B[49m\u001B[43m(\u001B[49m\n\u001B[1;32m    257\u001B[0m \u001B[43m    \u001B[49m\u001B[43mfield\u001B[49m\u001B[43m,\u001B[49m\n\u001B[1;32m    258\u001B[0m \u001B[43m    \u001B[49m\u001B[43mby_alias\u001B[49m\u001B[38;5;241;43m=\u001B[39;49m\u001B[43mby_alias\u001B[49m\u001B[43m,\u001B[49m\n\u001B[1;32m    259\u001B[0m \u001B[43m    \u001B[49m\u001B[43mmodel_name_map\u001B[49m\u001B[38;5;241;43m=\u001B[39;49m\u001B[43mmodel_name_map\u001B[49m\u001B[43m,\u001B[49m\n\u001B[1;32m    260\u001B[0m \u001B[43m    \u001B[49m\u001B[43mschema_overrides\u001B[49m\u001B[38;5;241;43m=\u001B[39;49m\u001B[43mschema_overrides\u001B[49m\u001B[43m,\u001B[49m\n\u001B[1;32m    261\u001B[0m \u001B[43m    \u001B[49m\u001B[43mref_prefix\u001B[49m\u001B[38;5;241;43m=\u001B[39;49m\u001B[43mref_prefix\u001B[49m\u001B[43m,\u001B[49m\n\u001B[1;32m    262\u001B[0m \u001B[43m    \u001B[49m\u001B[43mref_template\u001B[49m\u001B[38;5;241;43m=\u001B[39;49m\u001B[43mref_template\u001B[49m\u001B[43m,\u001B[49m\n\u001B[1;32m    263\u001B[0m \u001B[43m    \u001B[49m\u001B[43mknown_models\u001B[49m\u001B[38;5;241;43m=\u001B[39;49m\u001B[43mknown_models\u001B[49m\u001B[43m \u001B[49m\u001B[38;5;129;43;01mor\u001B[39;49;00m\u001B[43m \u001B[49m\u001B[38;5;28;43mset\u001B[39;49m\u001B[43m(\u001B[49m\u001B[43m)\u001B[49m\u001B[43m,\u001B[49m\n\u001B[1;32m    264\u001B[0m \u001B[43m\u001B[49m\u001B[43m)\u001B[49m\n\u001B[1;32m    266\u001B[0m \u001B[38;5;66;03m# $ref will only be returned when there are no schema_overrides\u001B[39;00m\n\u001B[1;32m    267\u001B[0m \u001B[38;5;28;01mif\u001B[39;00m \u001B[38;5;124m'\u001B[39m\u001B[38;5;124m$ref\u001B[39m\u001B[38;5;124m'\u001B[39m \u001B[38;5;129;01min\u001B[39;00m f_schema:\n",
      "File \u001B[0;32m~/anaconda3/envs/mobai/lib/python3.8/site-packages/pydantic/v1/schema.py:528\u001B[0m, in \u001B[0;36mfield_type_schema\u001B[0;34m(field, by_alias, model_name_map, ref_template, schema_overrides, ref_prefix, known_models)\u001B[0m\n\u001B[1;32m    526\u001B[0m \u001B[38;5;28;01melse\u001B[39;00m:\n\u001B[1;32m    527\u001B[0m     \u001B[38;5;28;01massert\u001B[39;00m field\u001B[38;5;241m.\u001B[39mshape \u001B[38;5;129;01min\u001B[39;00m {SHAPE_SINGLETON, SHAPE_GENERIC}, field\u001B[38;5;241m.\u001B[39mshape\n\u001B[0;32m--> 528\u001B[0m     f_schema, f_definitions, f_nested_models \u001B[38;5;241m=\u001B[39m \u001B[43mfield_singleton_schema\u001B[49m\u001B[43m(\u001B[49m\n\u001B[1;32m    529\u001B[0m \u001B[43m        \u001B[49m\u001B[43mfield\u001B[49m\u001B[43m,\u001B[49m\n\u001B[1;32m    530\u001B[0m \u001B[43m        \u001B[49m\u001B[43mby_alias\u001B[49m\u001B[38;5;241;43m=\u001B[39;49m\u001B[43mby_alias\u001B[49m\u001B[43m,\u001B[49m\n\u001B[1;32m    531\u001B[0m \u001B[43m        \u001B[49m\u001B[43mmodel_name_map\u001B[49m\u001B[38;5;241;43m=\u001B[39;49m\u001B[43mmodel_name_map\u001B[49m\u001B[43m,\u001B[49m\n\u001B[1;32m    532\u001B[0m \u001B[43m        \u001B[49m\u001B[43mschema_overrides\u001B[49m\u001B[38;5;241;43m=\u001B[39;49m\u001B[43mschema_overrides\u001B[49m\u001B[43m,\u001B[49m\n\u001B[1;32m    533\u001B[0m \u001B[43m        \u001B[49m\u001B[43mref_prefix\u001B[49m\u001B[38;5;241;43m=\u001B[39;49m\u001B[43mref_prefix\u001B[49m\u001B[43m,\u001B[49m\n\u001B[1;32m    534\u001B[0m \u001B[43m        \u001B[49m\u001B[43mref_template\u001B[49m\u001B[38;5;241;43m=\u001B[39;49m\u001B[43mref_template\u001B[49m\u001B[43m,\u001B[49m\n\u001B[1;32m    535\u001B[0m \u001B[43m        \u001B[49m\u001B[43mknown_models\u001B[49m\u001B[38;5;241;43m=\u001B[39;49m\u001B[43mknown_models\u001B[49m\u001B[43m,\u001B[49m\n\u001B[1;32m    536\u001B[0m \u001B[43m    \u001B[49m\u001B[43m)\u001B[49m\n\u001B[1;32m    537\u001B[0m     definitions\u001B[38;5;241m.\u001B[39mupdate(f_definitions)\n\u001B[1;32m    538\u001B[0m     nested_models\u001B[38;5;241m.\u001B[39mupdate(f_nested_models)\n",
      "File \u001B[0;32m~/anaconda3/envs/mobai/lib/python3.8/site-packages/pydantic/v1/schema.py:952\u001B[0m, in \u001B[0;36mfield_singleton_schema\u001B[0;34m(field, by_alias, model_name_map, ref_template, schema_overrides, ref_prefix, known_models)\u001B[0m\n\u001B[1;32m    949\u001B[0m \u001B[38;5;28;01mif\u001B[39;00m args \u001B[38;5;129;01mis\u001B[39;00m \u001B[38;5;129;01mnot\u001B[39;00m \u001B[38;5;28;01mNone\u001B[39;00m \u001B[38;5;129;01mand\u001B[39;00m \u001B[38;5;129;01mnot\u001B[39;00m args \u001B[38;5;129;01mand\u001B[39;00m Generic \u001B[38;5;129;01min\u001B[39;00m field_type\u001B[38;5;241m.\u001B[39m\u001B[38;5;18m__bases__\u001B[39m:\n\u001B[1;32m    950\u001B[0m     \u001B[38;5;28;01mreturn\u001B[39;00m f_schema, definitions, nested_models\n\u001B[0;32m--> 952\u001B[0m \u001B[38;5;28;01mraise\u001B[39;00m \u001B[38;5;167;01mValueError\u001B[39;00m(\u001B[38;5;124mf\u001B[39m\u001B[38;5;124m'\u001B[39m\u001B[38;5;124mValue not declarable with JSON Schema, field: \u001B[39m\u001B[38;5;132;01m{\u001B[39;00mfield\u001B[38;5;132;01m}\u001B[39;00m\u001B[38;5;124m'\u001B[39m)\n",
      "\u001B[0;31mValueError\u001B[0m: Value not declarable with JSON Schema, field: name='tdf' type=TrajDataFrame required=True"
     ]
    }
   ],
   "source": [
    "import os\n",
    "import pandas as pd\n",
    "import skmob\n",
    "from skmob import TrajDataFrame\n",
    "from skmob.preprocessing import filtering\n",
    "from skmob.preprocessing import detection\n",
    "\n",
    "os.environ[\"LANGCHAIN_TRACING\"] = \"true\"\n",
    "\n",
    "from langchain.llms import OpenAI\n",
    "from langchain.agents import initialize_agent, AgentType\n",
    "\n",
    "llm = OpenAI(temperature=0)\n",
    "from langchain.tools import StructuredTool\n",
    "\n",
    "\n",
    "def read_csv_from_file(file_path:str) -> pd.DataFrame:\n",
    "    \"\"\"Read the PLT file into a pandas DataFrame and do some basic data cleaning\"\"\"\n",
    "    df = pd.read_csv(file_path, skiprows=6, header=None,\n",
    "                     names=['lat', 'lon', 'zero', 'alt', 'date', 'date_str', 'time_str'])\n",
    "    # Drop useless columns\n",
    "    df = df.drop(columns=['zero', 'alt', 'date', 'date_str'])\n",
    "    return df\n",
    "    \n",
    "def create_tdf(df:pd.DataFrame) ->skmob.TrajDataFrame:\n",
    "    \"\"\"Create a TrajectoryDataFrame from the pandas DataFrame and do some basic data cleaning\"\"\"\n",
    "    tdf = TrajDataFrame(df, latitude='lat', longitude='lon', datetime='time_str')\n",
    "    # Preprocess the trajectory data by filtering out noise\n",
    "    tdf = filtering.filter(tdf, max_speed_kmh=100)\n",
    "    return tdf\n",
    "\n",
    "def stop_detection(tdf:skmob.TrajDataFrame) -> skmob.TrajDataFrame:\n",
    "    \"\"\"Detect stops in the trajectory data\"\"\"\n",
    "    stdf = detection.stay_locations(tdf, stop_radius_factor=0.5, minutes_for_a_stop=20.0, spatial_radius_km=0.2,\n",
    "                                    leaving_time=True)\n",
    "    # Return the stops as a pandas DataFrame\n",
    "    return stdf\n",
    "\n",
    "\n",
    "tool = [StructuredTool.from_function(stop_detection),StructuredTool.from_function(read_csv_from_file),\n",
    "        StructuredTool.from_function(create_tdf)]\n",
    "\n",
    "# Structured tools are compatible with the STRUCTURED_CHAT_ZERO_SHOT_REACT_DESCRIPTION agent type.\n",
    "agent_executor = initialize_agent(\n",
    "    tool,\n",
    "    llm,\n",
    "    agent=AgentType.STRUCTURED_CHAT_ZERO_SHOT_REACT_DESCRIPTION,\n",
    "    verbose=True,\n",
    ")\n",
    "\n",
    "task = \"a stop detection task on data Geolife Trajectories 1.3. Find some information from the output, like how many rows are in the result, etc. File_path = '/Users/user/Downloads/scikitmob/20081023025304.plt'\"\n",
    "prompt = f\"\"\"\n",
    "You are an AI spatial-temporal data assistant and want to make use of a python library called Scikit-mobility.\n",
    "You need to write some python code to do a task.\n",
    "The task is {task}.\"\"\"\n",
    "\n",
    "\n",
    "agent_executor.run(prompt)"
   ],
   "metadata": {
    "collapsed": false,
    "ExecuteTime": {
     "end_time": "2023-10-11T14:31:31.150890Z",
     "start_time": "2023-10-11T14:31:31.085075Z"
    }
   },
   "id": "20e34f2344c0bccc"
  }
 ],
 "metadata": {
  "kernelspec": {
   "display_name": "Python 3",
   "language": "python",
   "name": "python3"
  },
  "language_info": {
   "codemirror_mode": {
    "name": "ipython",
    "version": 2
   },
   "file_extension": ".py",
   "mimetype": "text/x-python",
   "name": "python",
   "nbconvert_exporter": "python",
   "pygments_lexer": "ipython2",
   "version": "2.7.6"
  }
 },
 "nbformat": 4,
 "nbformat_minor": 5
}
